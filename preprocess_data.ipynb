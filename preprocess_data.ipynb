{
 "cells": [
  {
   "cell_type": "code",
   "execution_count": 48,
   "id": "97e8332f-6353-4a2b-83e6-f0503402fb9f",
   "metadata": {
    "scrolled": true
   },
   "outputs": [
    {
     "name": "stdout",
     "output_type": "stream",
     "text": [
      "Requirement already satisfied: pandas in /Library/Frameworks/Python.framework/Versions/3.12/lib/python3.12/site-packages (2.2.2)\n",
      "Requirement already satisfied: numpy>=1.26.0 in /Library/Frameworks/Python.framework/Versions/3.12/lib/python3.12/site-packages (from pandas) (1.26.4)\n",
      "Requirement already satisfied: python-dateutil>=2.8.2 in /Library/Frameworks/Python.framework/Versions/3.12/lib/python3.12/site-packages (from pandas) (2.9.0.post0)\n",
      "Requirement already satisfied: pytz>=2020.1 in /Library/Frameworks/Python.framework/Versions/3.12/lib/python3.12/site-packages (from pandas) (2024.1)\n",
      "Requirement already satisfied: tzdata>=2022.7 in /Library/Frameworks/Python.framework/Versions/3.12/lib/python3.12/site-packages (from pandas) (2024.1)\n",
      "Requirement already satisfied: six>=1.5 in /Library/Frameworks/Python.framework/Versions/3.12/lib/python3.12/site-packages (from python-dateutil>=2.8.2->pandas) (1.16.0)\n",
      "\n",
      "\u001b[1m[\u001b[0m\u001b[34;49mnotice\u001b[0m\u001b[1;39;49m]\u001b[0m\u001b[39;49m A new release of pip is available: \u001b[0m\u001b[31;49m24.3.1\u001b[0m\u001b[39;49m -> \u001b[0m\u001b[32;49m25.0\u001b[0m\n",
      "\u001b[1m[\u001b[0m\u001b[34;49mnotice\u001b[0m\u001b[1;39;49m]\u001b[0m\u001b[39;49m To update, run: \u001b[0m\u001b[32;49mpip install --upgrade pip\u001b[0m\n",
      "Requirement already satisfied: selenium in /Library/Frameworks/Python.framework/Versions/3.12/lib/python3.12/site-packages (4.28.1)\n",
      "Requirement already satisfied: urllib3<3,>=1.26 in /Library/Frameworks/Python.framework/Versions/3.12/lib/python3.12/site-packages (from urllib3[socks]<3,>=1.26->selenium) (2.2.1)\n",
      "Requirement already satisfied: trio~=0.17 in /Library/Frameworks/Python.framework/Versions/3.12/lib/python3.12/site-packages (from selenium) (0.28.0)\n",
      "Requirement already satisfied: trio-websocket~=0.9 in /Library/Frameworks/Python.framework/Versions/3.12/lib/python3.12/site-packages (from selenium) (0.11.1)\n",
      "Requirement already satisfied: certifi>=2021.10.8 in /Library/Frameworks/Python.framework/Versions/3.12/lib/python3.12/site-packages (from selenium) (2024.2.2)\n",
      "Requirement already satisfied: typing_extensions~=4.9 in /Library/Frameworks/Python.framework/Versions/3.12/lib/python3.12/site-packages (from selenium) (4.12.2)\n",
      "Requirement already satisfied: websocket-client~=1.8 in /Library/Frameworks/Python.framework/Versions/3.12/lib/python3.12/site-packages (from selenium) (1.8.0)\n",
      "Requirement already satisfied: attrs>=23.2.0 in /Library/Frameworks/Python.framework/Versions/3.12/lib/python3.12/site-packages (from trio~=0.17->selenium) (24.2.0)\n",
      "Requirement already satisfied: sortedcontainers in /Library/Frameworks/Python.framework/Versions/3.12/lib/python3.12/site-packages (from trio~=0.17->selenium) (2.4.0)\n",
      "Requirement already satisfied: idna in /Library/Frameworks/Python.framework/Versions/3.12/lib/python3.12/site-packages (from trio~=0.17->selenium) (3.6)\n",
      "Requirement already satisfied: outcome in /Library/Frameworks/Python.framework/Versions/3.12/lib/python3.12/site-packages (from trio~=0.17->selenium) (1.3.0.post0)\n",
      "Requirement already satisfied: sniffio>=1.3.0 in /Library/Frameworks/Python.framework/Versions/3.12/lib/python3.12/site-packages (from trio~=0.17->selenium) (1.3.1)\n",
      "Requirement already satisfied: wsproto>=0.14 in /Library/Frameworks/Python.framework/Versions/3.12/lib/python3.12/site-packages (from trio-websocket~=0.9->selenium) (1.2.0)\n",
      "Requirement already satisfied: pysocks!=1.5.7,<2.0,>=1.5.6 in /Library/Frameworks/Python.framework/Versions/3.12/lib/python3.12/site-packages (from urllib3[socks]<3,>=1.26->selenium) (1.7.1)\n",
      "Requirement already satisfied: h11<1,>=0.9.0 in /Library/Frameworks/Python.framework/Versions/3.12/lib/python3.12/site-packages (from wsproto>=0.14->trio-websocket~=0.9->selenium) (0.14.0)\n",
      "\n",
      "\u001b[1m[\u001b[0m\u001b[34;49mnotice\u001b[0m\u001b[1;39;49m]\u001b[0m\u001b[39;49m A new release of pip is available: \u001b[0m\u001b[31;49m24.3.1\u001b[0m\u001b[39;49m -> \u001b[0m\u001b[32;49m25.0\u001b[0m\n",
      "\u001b[1m[\u001b[0m\u001b[34;49mnotice\u001b[0m\u001b[1;39;49m]\u001b[0m\u001b[39;49m To update, run: \u001b[0m\u001b[32;49mpip install --upgrade pip\u001b[0m\n",
      "Requirement already satisfied: webdriver_manager in /Library/Frameworks/Python.framework/Versions/3.12/lib/python3.12/site-packages (4.0.2)\n",
      "Requirement already satisfied: requests in /Library/Frameworks/Python.framework/Versions/3.12/lib/python3.12/site-packages (from webdriver_manager) (2.31.0)\n",
      "Requirement already satisfied: python-dotenv in /Library/Frameworks/Python.framework/Versions/3.12/lib/python3.12/site-packages (from webdriver_manager) (1.0.1)\n",
      "Requirement already satisfied: packaging in /Library/Frameworks/Python.framework/Versions/3.12/lib/python3.12/site-packages (from webdriver_manager) (24.1)\n",
      "Requirement already satisfied: charset-normalizer<4,>=2 in /Library/Frameworks/Python.framework/Versions/3.12/lib/python3.12/site-packages (from requests->webdriver_manager) (3.3.2)\n",
      "Requirement already satisfied: idna<4,>=2.5 in /Library/Frameworks/Python.framework/Versions/3.12/lib/python3.12/site-packages (from requests->webdriver_manager) (3.6)\n",
      "Requirement already satisfied: urllib3<3,>=1.21.1 in /Library/Frameworks/Python.framework/Versions/3.12/lib/python3.12/site-packages (from requests->webdriver_manager) (2.2.1)\n",
      "Requirement already satisfied: certifi>=2017.4.17 in /Library/Frameworks/Python.framework/Versions/3.12/lib/python3.12/site-packages (from requests->webdriver_manager) (2024.2.2)\n",
      "\n",
      "\u001b[1m[\u001b[0m\u001b[34;49mnotice\u001b[0m\u001b[1;39;49m]\u001b[0m\u001b[39;49m A new release of pip is available: \u001b[0m\u001b[31;49m24.3.1\u001b[0m\u001b[39;49m -> \u001b[0m\u001b[32;49m25.0\u001b[0m\n",
      "\u001b[1m[\u001b[0m\u001b[34;49mnotice\u001b[0m\u001b[1;39;49m]\u001b[0m\u001b[39;49m To update, run: \u001b[0m\u001b[32;49mpip install --upgrade pip\u001b[0m\n",
      "Requirement already satisfied: lxml in /Library/Frameworks/Python.framework/Versions/3.12/lib/python3.12/site-packages (5.3.0)\n",
      "\n",
      "\u001b[1m[\u001b[0m\u001b[34;49mnotice\u001b[0m\u001b[1;39;49m]\u001b[0m\u001b[39;49m A new release of pip is available: \u001b[0m\u001b[31;49m24.3.1\u001b[0m\u001b[39;49m -> \u001b[0m\u001b[32;49m25.0\u001b[0m\n",
      "\u001b[1m[\u001b[0m\u001b[34;49mnotice\u001b[0m\u001b[1;39;49m]\u001b[0m\u001b[39;49m To update, run: \u001b[0m\u001b[32;49mpip install --upgrade pip\u001b[0m\n",
      "Requirement already satisfied: yfinance in /Library/Frameworks/Python.framework/Versions/3.12/lib/python3.12/site-packages (0.2.52)\n",
      "Requirement already satisfied: pandas>=1.3.0 in /Library/Frameworks/Python.framework/Versions/3.12/lib/python3.12/site-packages (from yfinance) (2.2.2)\n",
      "Requirement already satisfied: numpy>=1.16.5 in /Library/Frameworks/Python.framework/Versions/3.12/lib/python3.12/site-packages (from yfinance) (1.26.4)\n",
      "Requirement already satisfied: requests>=2.31 in /Library/Frameworks/Python.framework/Versions/3.12/lib/python3.12/site-packages (from yfinance) (2.31.0)\n",
      "Requirement already satisfied: multitasking>=0.0.7 in /Library/Frameworks/Python.framework/Versions/3.12/lib/python3.12/site-packages (from yfinance) (0.0.11)\n",
      "Requirement already satisfied: lxml>=4.9.1 in /Library/Frameworks/Python.framework/Versions/3.12/lib/python3.12/site-packages (from yfinance) (5.3.0)\n",
      "Requirement already satisfied: platformdirs>=2.0.0 in /Library/Frameworks/Python.framework/Versions/3.12/lib/python3.12/site-packages (from yfinance) (4.2.0)\n",
      "Requirement already satisfied: pytz>=2022.5 in /Library/Frameworks/Python.framework/Versions/3.12/lib/python3.12/site-packages (from yfinance) (2024.1)\n",
      "Requirement already satisfied: frozendict>=2.3.4 in /Library/Frameworks/Python.framework/Versions/3.12/lib/python3.12/site-packages (from yfinance) (2.4.6)\n",
      "Requirement already satisfied: peewee>=3.16.2 in /Library/Frameworks/Python.framework/Versions/3.12/lib/python3.12/site-packages (from yfinance) (3.17.9)\n",
      "Requirement already satisfied: beautifulsoup4>=4.11.1 in /Library/Frameworks/Python.framework/Versions/3.12/lib/python3.12/site-packages (from yfinance) (4.12.3)\n",
      "Requirement already satisfied: html5lib>=1.1 in /Library/Frameworks/Python.framework/Versions/3.12/lib/python3.12/site-packages (from yfinance) (1.1)\n",
      "Requirement already satisfied: soupsieve>1.2 in /Library/Frameworks/Python.framework/Versions/3.12/lib/python3.12/site-packages (from beautifulsoup4>=4.11.1->yfinance) (2.5)\n",
      "Requirement already satisfied: six>=1.9 in /Library/Frameworks/Python.framework/Versions/3.12/lib/python3.12/site-packages (from html5lib>=1.1->yfinance) (1.16.0)\n",
      "Requirement already satisfied: webencodings in /Library/Frameworks/Python.framework/Versions/3.12/lib/python3.12/site-packages (from html5lib>=1.1->yfinance) (0.5.1)\n",
      "Requirement already satisfied: python-dateutil>=2.8.2 in /Library/Frameworks/Python.framework/Versions/3.12/lib/python3.12/site-packages (from pandas>=1.3.0->yfinance) (2.9.0.post0)\n",
      "Requirement already satisfied: tzdata>=2022.7 in /Library/Frameworks/Python.framework/Versions/3.12/lib/python3.12/site-packages (from pandas>=1.3.0->yfinance) (2024.1)\n",
      "Requirement already satisfied: charset-normalizer<4,>=2 in /Library/Frameworks/Python.framework/Versions/3.12/lib/python3.12/site-packages (from requests>=2.31->yfinance) (3.3.2)\n",
      "Requirement already satisfied: idna<4,>=2.5 in /Library/Frameworks/Python.framework/Versions/3.12/lib/python3.12/site-packages (from requests>=2.31->yfinance) (3.6)\n",
      "Requirement already satisfied: urllib3<3,>=1.21.1 in /Library/Frameworks/Python.framework/Versions/3.12/lib/python3.12/site-packages (from requests>=2.31->yfinance) (2.2.1)\n",
      "Requirement already satisfied: certifi>=2017.4.17 in /Library/Frameworks/Python.framework/Versions/3.12/lib/python3.12/site-packages (from requests>=2.31->yfinance) (2024.2.2)\n",
      "\n",
      "\u001b[1m[\u001b[0m\u001b[34;49mnotice\u001b[0m\u001b[1;39;49m]\u001b[0m\u001b[39;49m A new release of pip is available: \u001b[0m\u001b[31;49m24.3.1\u001b[0m\u001b[39;49m -> \u001b[0m\u001b[32;49m25.0\u001b[0m\n",
      "\u001b[1m[\u001b[0m\u001b[34;49mnotice\u001b[0m\u001b[1;39;49m]\u001b[0m\u001b[39;49m To update, run: \u001b[0m\u001b[32;49mpip install --upgrade pip\u001b[0m\n",
      "Requirement already satisfied: tensorflow in /Library/Frameworks/Python.framework/Versions/3.12/lib/python3.12/site-packages (2.18.0)\n",
      "Requirement already satisfied: absl-py>=1.0.0 in /Library/Frameworks/Python.framework/Versions/3.12/lib/python3.12/site-packages (from tensorflow) (2.1.0)\n",
      "Requirement already satisfied: astunparse>=1.6.0 in /Library/Frameworks/Python.framework/Versions/3.12/lib/python3.12/site-packages (from tensorflow) (1.6.3)\n",
      "Requirement already satisfied: flatbuffers>=24.3.25 in /Library/Frameworks/Python.framework/Versions/3.12/lib/python3.12/site-packages (from tensorflow) (25.2.10)\n",
      "Requirement already satisfied: gast!=0.5.0,!=0.5.1,!=0.5.2,>=0.2.1 in /Library/Frameworks/Python.framework/Versions/3.12/lib/python3.12/site-packages (from tensorflow) (0.6.0)\n",
      "Requirement already satisfied: google-pasta>=0.1.1 in /Library/Frameworks/Python.framework/Versions/3.12/lib/python3.12/site-packages (from tensorflow) (0.2.0)\n",
      "Requirement already satisfied: libclang>=13.0.0 in /Library/Frameworks/Python.framework/Versions/3.12/lib/python3.12/site-packages (from tensorflow) (18.1.1)\n",
      "Requirement already satisfied: opt-einsum>=2.3.2 in /Library/Frameworks/Python.framework/Versions/3.12/lib/python3.12/site-packages (from tensorflow) (3.4.0)\n",
      "Requirement already satisfied: packaging in /Library/Frameworks/Python.framework/Versions/3.12/lib/python3.12/site-packages (from tensorflow) (24.1)\n",
      "Requirement already satisfied: protobuf!=4.21.0,!=4.21.1,!=4.21.2,!=4.21.3,!=4.21.4,!=4.21.5,<6.0.0dev,>=3.20.3 in /Library/Frameworks/Python.framework/Versions/3.12/lib/python3.12/site-packages (from tensorflow) (5.29.3)\n",
      "Requirement already satisfied: requests<3,>=2.21.0 in /Library/Frameworks/Python.framework/Versions/3.12/lib/python3.12/site-packages (from tensorflow) (2.31.0)\n",
      "Requirement already satisfied: setuptools in /Library/Frameworks/Python.framework/Versions/3.12/lib/python3.12/site-packages (from tensorflow) (69.1.1)\n",
      "Requirement already satisfied: six>=1.12.0 in /Library/Frameworks/Python.framework/Versions/3.12/lib/python3.12/site-packages (from tensorflow) (1.16.0)\n",
      "Requirement already satisfied: termcolor>=1.1.0 in /Library/Frameworks/Python.framework/Versions/3.12/lib/python3.12/site-packages (from tensorflow) (2.5.0)\n",
      "Requirement already satisfied: typing-extensions>=3.6.6 in /Library/Frameworks/Python.framework/Versions/3.12/lib/python3.12/site-packages (from tensorflow) (4.12.2)\n",
      "Requirement already satisfied: wrapt>=1.11.0 in /Library/Frameworks/Python.framework/Versions/3.12/lib/python3.12/site-packages (from tensorflow) (1.17.2)\n",
      "Requirement already satisfied: grpcio<2.0,>=1.24.3 in /Library/Frameworks/Python.framework/Versions/3.12/lib/python3.12/site-packages (from tensorflow) (1.70.0)\n",
      "Requirement already satisfied: tensorboard<2.19,>=2.18 in /Library/Frameworks/Python.framework/Versions/3.12/lib/python3.12/site-packages (from tensorflow) (2.18.0)\n",
      "Requirement already satisfied: keras>=3.5.0 in /Library/Frameworks/Python.framework/Versions/3.12/lib/python3.12/site-packages (from tensorflow) (3.8.0)\n",
      "Requirement already satisfied: numpy<2.1.0,>=1.26.0 in /Library/Frameworks/Python.framework/Versions/3.12/lib/python3.12/site-packages (from tensorflow) (1.26.4)\n",
      "Requirement already satisfied: h5py>=3.11.0 in /Library/Frameworks/Python.framework/Versions/3.12/lib/python3.12/site-packages (from tensorflow) (3.12.1)\n",
      "Requirement already satisfied: ml-dtypes<0.5.0,>=0.4.0 in /Library/Frameworks/Python.framework/Versions/3.12/lib/python3.12/site-packages (from tensorflow) (0.4.1)\n",
      "Requirement already satisfied: wheel<1.0,>=0.23.0 in /Library/Frameworks/Python.framework/Versions/3.12/lib/python3.12/site-packages (from astunparse>=1.6.0->tensorflow) (0.45.1)\n",
      "Requirement already satisfied: rich in /Library/Frameworks/Python.framework/Versions/3.12/lib/python3.12/site-packages (from keras>=3.5.0->tensorflow) (13.9.4)\n",
      "Requirement already satisfied: namex in /Library/Frameworks/Python.framework/Versions/3.12/lib/python3.12/site-packages (from keras>=3.5.0->tensorflow) (0.0.8)\n",
      "Requirement already satisfied: optree in /Library/Frameworks/Python.framework/Versions/3.12/lib/python3.12/site-packages (from keras>=3.5.0->tensorflow) (0.14.0)\n",
      "Requirement already satisfied: charset-normalizer<4,>=2 in /Library/Frameworks/Python.framework/Versions/3.12/lib/python3.12/site-packages (from requests<3,>=2.21.0->tensorflow) (3.3.2)\n",
      "Requirement already satisfied: idna<4,>=2.5 in /Library/Frameworks/Python.framework/Versions/3.12/lib/python3.12/site-packages (from requests<3,>=2.21.0->tensorflow) (3.6)\n",
      "Requirement already satisfied: urllib3<3,>=1.21.1 in /Library/Frameworks/Python.framework/Versions/3.12/lib/python3.12/site-packages (from requests<3,>=2.21.0->tensorflow) (2.2.1)\n",
      "Requirement already satisfied: certifi>=2017.4.17 in /Library/Frameworks/Python.framework/Versions/3.12/lib/python3.12/site-packages (from requests<3,>=2.21.0->tensorflow) (2024.2.2)\n",
      "Requirement already satisfied: markdown>=2.6.8 in /Library/Frameworks/Python.framework/Versions/3.12/lib/python3.12/site-packages (from tensorboard<2.19,>=2.18->tensorflow) (3.7)\n",
      "Requirement already satisfied: tensorboard-data-server<0.8.0,>=0.7.0 in /Library/Frameworks/Python.framework/Versions/3.12/lib/python3.12/site-packages (from tensorboard<2.19,>=2.18->tensorflow) (0.7.2)\n",
      "Requirement already satisfied: werkzeug>=1.0.1 in /Library/Frameworks/Python.framework/Versions/3.12/lib/python3.12/site-packages (from tensorboard<2.19,>=2.18->tensorflow) (3.1.3)\n",
      "Requirement already satisfied: MarkupSafe>=2.1.1 in /Library/Frameworks/Python.framework/Versions/3.12/lib/python3.12/site-packages (from werkzeug>=1.0.1->tensorboard<2.19,>=2.18->tensorflow) (3.0.1)\n",
      "Requirement already satisfied: markdown-it-py>=2.2.0 in /Library/Frameworks/Python.framework/Versions/3.12/lib/python3.12/site-packages (from rich->keras>=3.5.0->tensorflow) (3.0.0)\n",
      "Requirement already satisfied: pygments<3.0.0,>=2.13.0 in /Library/Frameworks/Python.framework/Versions/3.12/lib/python3.12/site-packages (from rich->keras>=3.5.0->tensorflow) (2.18.0)\n",
      "Requirement already satisfied: mdurl~=0.1 in /Library/Frameworks/Python.framework/Versions/3.12/lib/python3.12/site-packages (from markdown-it-py>=2.2.0->rich->keras>=3.5.0->tensorflow) (0.1.2)\n",
      "\n",
      "\u001b[1m[\u001b[0m\u001b[34;49mnotice\u001b[0m\u001b[1;39;49m]\u001b[0m\u001b[39;49m A new release of pip is available: \u001b[0m\u001b[31;49m24.3.1\u001b[0m\u001b[39;49m -> \u001b[0m\u001b[32;49m25.0\u001b[0m\n",
      "\u001b[1m[\u001b[0m\u001b[34;49mnotice\u001b[0m\u001b[1;39;49m]\u001b[0m\u001b[39;49m To update, run: \u001b[0m\u001b[32;49mpip install --upgrade pip\u001b[0m\n",
      "Requirement already satisfied: scikit-learn in /Library/Frameworks/Python.framework/Versions/3.12/lib/python3.12/site-packages (1.6.1)\n",
      "Requirement already satisfied: numpy>=1.19.5 in /Library/Frameworks/Python.framework/Versions/3.12/lib/python3.12/site-packages (from scikit-learn) (1.26.4)\n",
      "Requirement already satisfied: scipy>=1.6.0 in /Library/Frameworks/Python.framework/Versions/3.12/lib/python3.12/site-packages (from scikit-learn) (1.15.1)\n",
      "Requirement already satisfied: joblib>=1.2.0 in /Library/Frameworks/Python.framework/Versions/3.12/lib/python3.12/site-packages (from scikit-learn) (1.4.2)\n",
      "Requirement already satisfied: threadpoolctl>=3.1.0 in /Library/Frameworks/Python.framework/Versions/3.12/lib/python3.12/site-packages (from scikit-learn) (3.5.0)\n",
      "\n",
      "\u001b[1m[\u001b[0m\u001b[34;49mnotice\u001b[0m\u001b[1;39;49m]\u001b[0m\u001b[39;49m A new release of pip is available: \u001b[0m\u001b[31;49m24.3.1\u001b[0m\u001b[39;49m -> \u001b[0m\u001b[32;49m25.0\u001b[0m\n",
      "\u001b[1m[\u001b[0m\u001b[34;49mnotice\u001b[0m\u001b[1;39;49m]\u001b[0m\u001b[39;49m To update, run: \u001b[0m\u001b[32;49mpip install --upgrade pip\u001b[0m\n",
      "Scraping agro data from https://www.set.or.th/th/market/index/set/agro...\n"
     ]
    },
    {
     "name": "stderr",
     "output_type": "stream",
     "text": [
      "/var/folders/vw/288jn05573d78l0mr6f151zc0000gn/T/ipykernel_65620/2857208460.py:29: FutureWarning: Passing literal html to 'read_html' is deprecated and will be removed in a future version. To read from a literal string, wrap it in a 'StringIO' object.\n",
      "  data_list = pd.read_html(driver.page_source)\n"
     ]
    },
    {
     "name": "stdout",
     "output_type": "stream",
     "text": [
      "No data found for agro. Retrying... (Attempt 1)\n"
     ]
    },
    {
     "name": "stderr",
     "output_type": "stream",
     "text": [
      "/var/folders/vw/288jn05573d78l0mr6f151zc0000gn/T/ipykernel_65620/2857208460.py:29: FutureWarning: Passing literal html to 'read_html' is deprecated and will be removed in a future version. To read from a literal string, wrap it in a 'StringIO' object.\n",
      "  data_list = pd.read_html(driver.page_source)\n"
     ]
    },
    {
     "name": "stdout",
     "output_type": "stream",
     "text": [
      "No data found for agro. Retrying... (Attempt 2)\n"
     ]
    },
    {
     "name": "stderr",
     "output_type": "stream",
     "text": [
      "/var/folders/vw/288jn05573d78l0mr6f151zc0000gn/T/ipykernel_65620/2857208460.py:29: FutureWarning: Passing literal html to 'read_html' is deprecated and will be removed in a future version. To read from a literal string, wrap it in a 'StringIO' object.\n",
      "  data_list = pd.read_html(driver.page_source)\n"
     ]
    },
    {
     "name": "stdout",
     "output_type": "stream",
     "text": [
      "No data found for agro. Retrying... (Attempt 3)\n",
      "Failed to scrape data for agro after 3 attempts.\n",
      "Scraping consump data from https://www.set.or.th/th/market/index/set/consump...\n"
     ]
    },
    {
     "name": "stderr",
     "output_type": "stream",
     "text": [
      "/var/folders/vw/288jn05573d78l0mr6f151zc0000gn/T/ipykernel_65620/2857208460.py:29: FutureWarning: Passing literal html to 'read_html' is deprecated and will be removed in a future version. To read from a literal string, wrap it in a 'StringIO' object.\n",
      "  data_list = pd.read_html(driver.page_source)\n"
     ]
    },
    {
     "name": "stdout",
     "output_type": "stream",
     "text": [
      "No data found for consump. Retrying... (Attempt 1)\n"
     ]
    },
    {
     "name": "stderr",
     "output_type": "stream",
     "text": [
      "/var/folders/vw/288jn05573d78l0mr6f151zc0000gn/T/ipykernel_65620/2857208460.py:29: FutureWarning: Passing literal html to 'read_html' is deprecated and will be removed in a future version. To read from a literal string, wrap it in a 'StringIO' object.\n",
      "  data_list = pd.read_html(driver.page_source)\n"
     ]
    },
    {
     "name": "stdout",
     "output_type": "stream",
     "text": [
      "No data found for consump. Retrying... (Attempt 2)\n"
     ]
    },
    {
     "name": "stderr",
     "output_type": "stream",
     "text": [
      "/var/folders/vw/288jn05573d78l0mr6f151zc0000gn/T/ipykernel_65620/2857208460.py:29: FutureWarning: Passing literal html to 'read_html' is deprecated and will be removed in a future version. To read from a literal string, wrap it in a 'StringIO' object.\n",
      "  data_list = pd.read_html(driver.page_source)\n"
     ]
    },
    {
     "name": "stdout",
     "output_type": "stream",
     "text": [
      "No data found for consump. Retrying... (Attempt 3)\n",
      "Failed to scrape data for consump after 3 attempts.\n",
      "Scraping fincial data from https://www.set.or.th/th/market/index/set/fincial...\n"
     ]
    },
    {
     "name": "stderr",
     "output_type": "stream",
     "text": [
      "/var/folders/vw/288jn05573d78l0mr6f151zc0000gn/T/ipykernel_65620/2857208460.py:29: FutureWarning: Passing literal html to 'read_html' is deprecated and will be removed in a future version. To read from a literal string, wrap it in a 'StringIO' object.\n",
      "  data_list = pd.read_html(driver.page_source)\n"
     ]
    },
    {
     "name": "stdout",
     "output_type": "stream",
     "text": [
      "                  หลักทรัพย์    เปิด  สูงสุด  ต่ำสุด  ล่าสุด เปลี่ยนแปลง  \\\n",
      "1    FINCIAL - ธุรกิจการเงิน     NaN     NaN     NaN     NaN         NaN   \n",
      "2              BANK - ธนาคาร     NaN     NaN     NaN     NaN         NaN   \n",
      "3                        BAY   23.30   23.30   23.10   23.10       -0.20   \n",
      "5                        BBL  152.50  154.00  152.00  153.00       +0.50   \n",
      "7                  CIMBT  CF    0.54    0.55    0.53    0.55       +0.01   \n",
      "..                       ...     ...     ...     ...     ...         ...   \n",
      "137                     TIPH   21.60   21.60   21.10   21.20       -0.10   \n",
      "139                      TLI   11.00   11.20   10.90   11.10       +0.20   \n",
      "141                      TQM   16.70   17.00   16.70   16.90       +0.10   \n",
      "143                  TSI  CB    0.09    0.09    0.08    0.09       +0.01   \n",
      "145                      TVH    8.80    8.85    8.75    8.85       -0.05   \n",
      "\n",
      "    % เปลี่ยนแปลง เสนอซื้อ เสนอขาย ปริมาณ (หุ้น) มูลค่า ('000 บาท)  \n",
      "1             NaN      NaN     NaN           NaN      Collapse All  \n",
      "2             NaN      NaN     NaN           NaN               NaN  \n",
      "3           -0.86    23.10   23.20        189300           4376.92  \n",
      "5           +0.33   152.50  153.00       4929808         754303.97  \n",
      "7           +1.85     0.54    0.55       2611806           1426.79  \n",
      "..            ...      ...     ...           ...               ...  \n",
      "137         -0.47    21.20   21.30        180507           3836.73  \n",
      "139         +1.83    11.00   11.10      10133417         111724.99  \n",
      "141         +0.60    16.90   17.00       1104919          18626.09  \n",
      "143        +12.50     0.08    0.09        365500             29.85  \n",
      "145         -0.56     8.80    8.90         10009             87.77  \n",
      "\n",
      "[75 rows x 11 columns]\n",
      "Successfully scraped fincial data.\n",
      "Scraping indus data from https://www.set.or.th/th/market/index/set/indus...\n"
     ]
    },
    {
     "name": "stderr",
     "output_type": "stream",
     "text": [
      "/var/folders/vw/288jn05573d78l0mr6f151zc0000gn/T/ipykernel_65620/2857208460.py:29: FutureWarning: Passing literal html to 'read_html' is deprecated and will be removed in a future version. To read from a literal string, wrap it in a 'StringIO' object.\n",
      "  data_list = pd.read_html(driver.page_source)\n"
     ]
    },
    {
     "name": "stdout",
     "output_type": "stream",
     "text": [
      "                   หลักทรัพย์   เปิด สูงสุด ต่ำสุด ล่าสุด เปลี่ยนแปลง  \\\n",
      "1    INDUS - สินค้าอุตสาหกรรม    NaN    NaN    NaN    NaN         NaN   \n",
      "2              AUTO - ยานยนต์    NaN    NaN    NaN    NaN         NaN   \n",
      "3                         ACG   0.78   0.79   0.78   0.78        0.00   \n",
      "5                          AH  14.20  14.20  14.00  14.00       -0.10   \n",
      "7                         CWT   0.64   0.69   0.64   0.67       +0.02   \n",
      "..                        ...    ...    ...    ...    ...         ...   \n",
      "198                       THE   0.71   0.73   0.70   0.73        0.00   \n",
      "200                       TMT   3.04   3.04   3.02   3.04       -0.02   \n",
      "202                      TSTH   0.52   0.55   0.52   0.53       +0.01   \n",
      "204                       TWP   1.20   1.20   1.10   1.13       -0.03   \n",
      "206                      TYCN   1.88   1.88   1.88   1.88       -0.01   \n",
      "\n",
      "    % เปลี่ยนแปลง เสนอซื้อ เสนอขาย ปริมาณ (หุ้น) มูลค่า ('000 บาท)  \n",
      "1             NaN      NaN     NaN           NaN      Collapse All  \n",
      "2             NaN      NaN     NaN           NaN               NaN  \n",
      "3            0.00     0.77    0.79          2200              1.72  \n",
      "5           -0.71    14.00   14.10         71623           1010.44  \n",
      "7           +3.08     0.65    0.67        147436             97.28  \n",
      "..            ...      ...     ...           ...               ...  \n",
      "198          0.00     0.70    0.73         13500              9.77  \n",
      "200         -0.65     3.04    3.06         39400            119.34  \n",
      "202         +1.92     0.53    0.55       1296100            687.57  \n",
      "204         -2.59     1.14    1.15         91801            102.60  \n",
      "206         -0.53     1.83    1.89           100              0.19  \n",
      "\n",
      "[107 rows x 11 columns]\n",
      "Successfully scraped indus data.\n",
      "Scraping propcon data from https://www.set.or.th/th/market/index/set/propcon...\n"
     ]
    },
    {
     "name": "stderr",
     "output_type": "stream",
     "text": [
      "/var/folders/vw/288jn05573d78l0mr6f151zc0000gn/T/ipykernel_65620/2857208460.py:29: FutureWarning: Passing literal html to 'read_html' is deprecated and will be removed in a future version. To read from a literal string, wrap it in a 'StringIO' object.\n",
      "  data_list = pd.read_html(driver.page_source)\n"
     ]
    },
    {
     "name": "stdout",
     "output_type": "stream",
     "text": [
      "                               หลักทรัพย์  เปิด สูงสุด ต่ำสุด ล่าสุด  \\\n",
      "1    PROPCON - อสังหาริมทรัพย์และก่อสร้าง   NaN    NaN    NaN    NaN   \n",
      "2                  CONMAT - วัสดุก่อสร้าง   NaN    NaN    NaN    NaN   \n",
      "3                                     CCP  0.21   0.22   0.20   0.22   \n",
      "5                                     DCC  1.61   1.62   1.54   1.56   \n",
      "7                                    DCON  0.30   0.30   0.29   0.30   \n",
      "..                                    ...   ...    ...    ...    ...   \n",
      "334                               TRC  CB  0.94   0.98   0.91   0.98   \n",
      "336                                 TRITN  0.10   0.11   0.10   0.10   \n",
      "338                                  TTCL  1.65   1.67   1.56   1.61   \n",
      "340                                  UNIQ  2.02   2.04   1.99   2.00   \n",
      "342                                   WGE  0.74   0.75   0.74   0.75   \n",
      "\n",
      "    เปลี่ยนแปลง % เปลี่ยนแปลง เสนอซื้อ  เสนอขาย ปริมาณ (หุ้น)  \\\n",
      "1           NaN           NaN      NaN      NaN           NaN   \n",
      "2           NaN           NaN      NaN      NaN           NaN   \n",
      "3         +0.01         +4.76     0.21     0.22       1142952   \n",
      "5         -0.06         -3.70     1.56     1.57       6493020   \n",
      "7         +0.01         +3.45     0.29     0.30        294400   \n",
      "..          ...           ...      ...      ...           ...   \n",
      "334       +0.04         +4.26     0.95     0.98        221883   \n",
      "336        0.00          0.00     0.10     0.11       1521100   \n",
      "338       -0.01         -0.62     1.58     1.61        800902   \n",
      "340       -0.02         -0.99     1.99     2.00        437901   \n",
      "342        0.00          0.00     0.74     0.75         75600   \n",
      "\n",
      "    มูลค่า ('000 บาท)  \n",
      "1        Collapse All  \n",
      "2                 NaN  \n",
      "3              242.74  \n",
      "5            10229.40  \n",
      "7               85.71  \n",
      "..                ...  \n",
      "334            207.72  \n",
      "336            152.13  \n",
      "338           1285.54  \n",
      "340            877.92  \n",
      "342             56.00  \n",
      "\n",
      "[174 rows x 11 columns]\n",
      "Successfully scraped propcon data.\n",
      "Scraping resource data from https://www.set.or.th/th/market/index/set/resourc...\n"
     ]
    },
    {
     "name": "stderr",
     "output_type": "stream",
     "text": [
      "/var/folders/vw/288jn05573d78l0mr6f151zc0000gn/T/ipykernel_65620/2857208460.py:29: FutureWarning: Passing literal html to 'read_html' is deprecated and will be removed in a future version. To read from a literal string, wrap it in a 'StringIO' object.\n",
      "  data_list = pd.read_html(driver.page_source)\n"
     ]
    },
    {
     "name": "stdout",
     "output_type": "stream",
     "text": [
      "                        หลักทรัพย์  เปิด  สูงสุด  ต่ำสุด  ล่าสุด  เปลี่ยนแปลง  \\\n",
      "1               RESOURC - ทรัพยากร   NaN     NaN     NaN     NaN          NaN   \n",
      "2    ENERG - พลังงานและสาธารณูปโภค   NaN     NaN     NaN     NaN          NaN   \n",
      "3                              ACC  0.40    0.41    0.39    0.39        -0.01   \n",
      "5                              ACE  1.31    1.31    1.27    1.29        -0.02   \n",
      "7                               AE  0.16    0.17    0.16    0.16         0.00   \n",
      "..                             ...   ...     ...     ...     ...          ...   \n",
      "119                            TTW  8.80    8.95    8.80    8.90         0.10   \n",
      "121                            UBE  0.51    0.52    0.50    0.52         0.01   \n",
      "123                          WHAUP  3.46    3.62    3.46    3.60         0.16   \n",
      "125                             WP  3.24    3.26    3.04    3.26        -0.02   \n",
      "127               MINE - เหมืองแร่   NaN     NaN     NaN     NaN          NaN   \n",
      "\n",
      "     % เปลี่ยนแปลง  เสนอซื้อ  เสนอขาย  ปริมาณ (หุ้น) มูลค่า ('000 บาท)  \n",
      "1              NaN       NaN      NaN            NaN      Collapse All  \n",
      "2              NaN       NaN      NaN            NaN               NaN  \n",
      "3            -2.50      0.39     0.40      2000039.0            799.23  \n",
      "5            -1.53      1.29     1.30       771208.0            987.42  \n",
      "7             0.00      0.16     0.17      3362413.0            538.65  \n",
      "..             ...       ...      ...            ...               ...  \n",
      "119           1.14      8.90     8.95      1004849.0           8919.35  \n",
      "121           1.96      0.51     0.52      1699202.0            871.81  \n",
      "123           4.65      3.60     3.62      3541288.0          12638.31  \n",
      "125          -0.61      3.20     3.26        74401.0            232.65  \n",
      "127            NaN       NaN      NaN            NaN               NaN  \n",
      "\n",
      "[65 rows x 11 columns]\n",
      "Successfully scraped resource data.\n",
      "Scraping service data from https://www.set.or.th/th/market/index/set/service...\n"
     ]
    },
    {
     "name": "stderr",
     "output_type": "stream",
     "text": [
      "/var/folders/vw/288jn05573d78l0mr6f151zc0000gn/T/ipykernel_65620/2857208460.py:29: FutureWarning: Passing literal html to 'read_html' is deprecated and will be removed in a future version. To read from a literal string, wrap it in a 'StringIO' object.\n",
      "  data_list = pd.read_html(driver.page_source)\n"
     ]
    },
    {
     "name": "stdout",
     "output_type": "stream",
     "text": [
      "           หลักทรัพย์  เปิด สูงสุด ต่ำสุด ล่าสุด เปลี่ยนแปลง % เปลี่ยนแปลง  \\\n",
      "1    SERVICE - บริการ   NaN    NaN    NaN    NaN         NaN           NaN   \n",
      "2      COMM - พาณิชย์   NaN    NaN    NaN    NaN         NaN           NaN   \n",
      "3              ADVICE  4.66   4.94   4.66   4.90       +0.20         +4.26   \n",
      "5             B52  CB  0.28   0.30   0.27   0.29       +0.01         +3.57   \n",
      "7              BEAUTY  0.22   0.23   0.21   0.23       +0.01         +4.55   \n",
      "..                ...   ...    ...    ...    ...         ...           ...   \n",
      "268             TFFIF  6.30   6.40   6.30   6.30        0.00          0.00   \n",
      "270  THAI  SP  NC  NP     -      -      -      -           -             -   \n",
      "272              TSTE     -      -      -      -           -             -   \n",
      "274               TTA  4.04   4.30   4.04   4.28       +0.24         +5.94   \n",
      "276              WICE  3.30   3.30   3.24   3.30        0.00          0.00   \n",
      "\n",
      "    เสนอซื้อ เสนอขาย ปริมาณ (หุ้น) มูลค่า ('000 บาท)  \n",
      "1        NaN     NaN           NaN      Collapse All  \n",
      "2        NaN     NaN           NaN               NaN  \n",
      "3       4.90    4.92       2710118          13115.76  \n",
      "5       0.27    0.29         59215             16.64  \n",
      "7       0.22    0.23       3888303            855.77  \n",
      "..       ...     ...           ...               ...  \n",
      "268     6.30    6.35       4558490          28911.73  \n",
      "270        -       -             -                 -  \n",
      "272     9.15   11.00             -                 -  \n",
      "274     4.26    4.28       5802084          24407.65  \n",
      "276     3.28    3.30        111000            362.99  \n",
      "\n",
      "[142 rows x 11 columns]\n",
      "Successfully scraped service data.\n",
      "Scraping tech data from https://www.set.or.th/th/market/index/set/tech...\n"
     ]
    },
    {
     "name": "stderr",
     "output_type": "stream",
     "text": [
      "/var/folders/vw/288jn05573d78l0mr6f151zc0000gn/T/ipykernel_65620/2857208460.py:29: FutureWarning: Passing literal html to 'read_html' is deprecated and will be removed in a future version. To read from a literal string, wrap it in a 'StringIO' object.\n",
      "  data_list = pd.read_html(driver.page_source)\n"
     ]
    },
    {
     "name": "stdout",
     "output_type": "stream",
     "text": [
      "                              หลักทรัพย์    เปิด  สูงสุด  ต่ำสุด  ล่าสุด  \\\n",
      "1                       TECH - เทคโนโลยี     NaN     NaN     NaN     NaN   \n",
      "2         ETRON - ชิ้นส่วนอิเล็กทรอนิกส์     NaN     NaN     NaN     NaN   \n",
      "3                                   CCET    7.45    8.20    7.40    8.10   \n",
      "5                                  DELTA  115.00  115.00  112.50  114.00   \n",
      "7                                   HANA   20.90   21.90   20.90   21.80   \n",
      "9                                    KCE   19.80   21.20   19.70   21.20   \n",
      "11                                 METCO  161.00  161.00  158.50  159.00   \n",
      "13                                   SMT    1.19    1.21    1.18    1.20   \n",
      "15                                   SVI    7.05    7.15    7.00    7.00   \n",
      "17                                  TEAM    2.58    2.62    2.56    2.56   \n",
      "19  ICT - เทคโนโลยีสารสนเทศและการสื่อสาร     NaN     NaN     NaN     NaN   \n",
      "20                                 3BBIF    5.40    5.45    5.35    5.45   \n",
      "22                                ADVANC  284.00  285.00  280.00  284.00   \n",
      "24                                   AIT    4.36    4.62    4.36    4.62   \n",
      "26                                   ALT    0.87    0.87    0.84    0.86   \n",
      "28                                   AMR    0.67    0.68    0.66    0.67   \n",
      "30                     BLISS  SP  NC  NP       -       -       -       -   \n",
      "32                                   DIF    8.45    8.50    8.40    8.45   \n",
      "34                                 DITTO   12.10   12.60   12.00   12.50   \n",
      "36                                DTCENT    0.97    0.99    0.97    0.97   \n",
      "38                                 FORTH    8.30    8.30    8.20    8.30   \n",
      "40                                 GABLE    2.66    2.72    2.66    2.72   \n",
      "42                                 HUMAN    6.40    6.60    6.40    6.50   \n",
      "44                                   ICN    1.90    1.91    1.88    1.91   \n",
      "46                                 ILINK    5.25    5.30    5.20    5.25   \n",
      "48                                  INET    5.25    5.55    5.25    5.45   \n",
      "50                                 INSET    2.38    2.44    2.36    2.42   \n",
      "52                                INTUCH   99.00   99.00   96.75   98.50   \n",
      "54                                  ITEL    1.49    1.54    1.48    1.54   \n",
      "56                                   JAS    1.77    1.82    1.76    1.81   \n",
      "58                                 JMART    9.80   10.20    9.75   10.00   \n",
      "60                                   JTS   50.50   52.00   48.75   48.75   \n",
      "62                                  MFEC    5.55    5.65    5.55    5.60   \n",
      "64                                   MSC    7.80    7.80    7.80    7.80   \n",
      "66                                    PT    9.50    9.65    9.50    9.65   \n",
      "68                                ROCTEC    0.93    0.97    0.93    0.96   \n",
      "70                                SAMART    7.00    7.10    7.00    7.05   \n",
      "72                                SAMTEL    5.55    5.90    5.55    5.85   \n",
      "74                               SDC  CB    0.04    0.05    0.04    0.05   \n",
      "76                                   SIS   25.00   25.50   24.80   25.25   \n",
      "78                                   SKY   20.40   21.70   20.40   21.30   \n",
      "80                                SPREME    1.32    1.42    1.32    1.37   \n",
      "82                                  SVOA    1.01    1.03    1.00    1.00   \n",
      "84                                  SYMC    6.15    6.35    5.80    6.35   \n",
      "86                                 SYNEX   10.60   10.80   10.10   10.50   \n",
      "88                                 THCOM   10.70   11.00   10.70   10.90   \n",
      "90                                   TKC    9.15    9.70    9.15    9.65   \n",
      "92                                  TRUE   12.60   12.70   12.40   12.60   \n",
      "94                                   TWZ    0.03    0.04    0.03    0.04   \n",
      "\n",
      "   เปลี่ยนแปลง % เปลี่ยนแปลง เสนอซื้อ เสนอขาย ปริมาณ (หุ้น) มูลค่า ('000 บาท)  \n",
      "1          NaN           NaN      NaN     NaN           NaN      Collapse All  \n",
      "2          NaN           NaN      NaN     NaN           NaN               NaN  \n",
      "3        +0.80        +10.96     8.05    8.10     141044346        1106370.26  \n",
      "5        +2.00         +1.79   114.00  114.50       9737966        1110007.77  \n",
      "7        +1.00         +4.81    21.70   21.80       7703834         165078.32  \n",
      "9        +1.40         +7.07    21.20   21.30      13788336         284122.31  \n",
      "11       -3.00         -1.85   159.00  160.50         10742           1709.65  \n",
      "13       +0.01         +0.84     1.20    1.21        309706            370.80  \n",
      "15       -0.05         -0.71     7.00    7.05       1794017          12664.07  \n",
      "17       -0.02         -0.78     2.56    2.62        120215            311.18  \n",
      "19         NaN           NaN      NaN     NaN           NaN               NaN  \n",
      "20       +0.05         +0.93     5.40    5.45       8414482          45510.72  \n",
      "22       +1.00         +0.35   284.00  285.00      11075069        3126985.81  \n",
      "24       +0.26         +5.96     4.60    4.62      11128536          50729.74  \n",
      "26       -0.01         -1.15     0.85    0.86        129190            110.39  \n",
      "28       +0.01         +1.52     0.66    0.67        263811            176.36  \n",
      "30           -             -        -       -             -                 -  \n",
      "32       +0.05         +0.60     8.45    8.50      12999223         110002.56  \n",
      "34       +0.40         +3.31    12.50   12.60       1578720          19462.84  \n",
      "36       +0.01         +1.04     0.97    0.98        164100            160.01  \n",
      "38       +0.10         +1.22     8.25    8.30        122655           1014.22  \n",
      "40       +0.06         +2.26     2.70    2.72        110900            299.65  \n",
      "42       +0.10         +1.56     6.50    6.60        118510            772.65  \n",
      "44       +0.01         +0.53     1.90    1.91        248010            468.36  \n",
      "46       +0.05         +0.96     5.25    5.30        232477           1220.44  \n",
      "48       +0.20         +3.81     5.45    5.50       4677962          25475.63  \n",
      "50       +0.04         +1.68     2.42    2.44       4715140          11352.05  \n",
      "52       -1.00         -1.01    98.25   98.50      25493130        2495962.04  \n",
      "54       +0.05         +3.36     1.54    1.55       1168477           1779.15  \n",
      "56       +0.04         +2.26     1.80    1.81       8954901          16109.89  \n",
      "58       +0.20         +2.04    10.00   10.10      10660930         105979.65  \n",
      "60       -1.75         -3.47    48.75   49.00        390462          19523.32  \n",
      "62       +0.10         +1.82     5.60    5.65         75931            424.06  \n",
      "64       -0.05         -0.64     7.75    7.80         10350             80.73  \n",
      "66       +0.05         +0.52     9.60    9.70        102670            987.88  \n",
      "68       +0.02         +2.13     0.96    0.97       2746126           2630.84  \n",
      "70        0.00          0.00     7.00    7.05       4715111          33134.61  \n",
      "72       +0.20         +3.54     5.80    5.85        666200           3854.59  \n",
      "74       +0.01        +25.00     0.04    0.05       9676500            393.11  \n",
      "76       +0.25         +1.00    25.25   25.50        197940           4980.31  \n",
      "78       +0.60         +2.90    21.30   21.60       1340083          28486.72  \n",
      "80       +0.04         +3.01     1.36    1.37        410900            554.32  \n",
      "82        0.00          0.00     1.01    1.02         22240             22.59  \n",
      "84       +0.10         +1.60     6.30    6.35        543400           3338.75  \n",
      "86       -0.10         -0.94    10.50   10.60       6005349          62674.51  \n",
      "88       +0.20         +1.87    10.80   10.90       3913811          42575.43  \n",
      "90       +0.65         +7.22     9.50    9.65         99400            945.59  \n",
      "92       -0.10         -0.79    12.50   12.60      80869180        1014989.47  \n",
      "94       +0.01        +33.33     0.03    0.04      19427878            588.95  \n",
      "Successfully scraped tech data.\n",
      "\n",
      "========= TOP 5 for Pulling from Yahoo Finance =========\n",
      "{'fincial': ['KBANK.BK', 'KTB.BK', 'SCB.BK', 'BBL.BK', 'TTB.BK'], 'indus': ['IVL.BK', 'PTTGC.BK', 'SCGP.BK', 'RSXYZ.BK', 'TPCS.BK'], 'propcon': ['AMATA.BK', 'CPN.BK', 'WHA.BK', 'SIRI.BK', 'SCC.BK'], 'resource': ['GULF.BK', 'PTTEP.BK', 'TOP.BK', 'PTT.BK', 'BCP.BK'], 'service': ['CPALL.BK', 'AOT.BK', 'BH.BK', 'BDMS.BK', 'MINT.BK'], 'tech': ['ADVANC.BK', 'INTUCH.BK', 'DELTA.BK', 'CCET.BK', 'TRUE.BK']}\n",
      "Downloading data for fincial stocks...\n"
     ]
    },
    {
     "name": "stderr",
     "output_type": "stream",
     "text": [
      "[*********************100%***********************]  1 of 1 completed\n",
      "[*********************100%***********************]  1 of 1 completed\n",
      "[*********************100%***********************]  1 of 1 completed\n"
     ]
    },
    {
     "name": "stdout",
     "output_type": "stream",
     "text": [
      "Downloaded data for KBANK.BK with 243 rows\n",
      "Downloaded data for KTB.BK with 243 rows\n",
      "Downloaded data for SCB.BK with 243 rows\n"
     ]
    },
    {
     "name": "stderr",
     "output_type": "stream",
     "text": [
      "[*********************100%***********************]  1 of 1 completed\n",
      "[*********************100%***********************]  1 of 1 completed\n"
     ]
    },
    {
     "name": "stdout",
     "output_type": "stream",
     "text": [
      "Downloaded data for BBL.BK with 243 rows\n",
      "Downloaded data for TTB.BK with 243 rows\n",
      "Downloading data for indus stocks...\n"
     ]
    },
    {
     "name": "stderr",
     "output_type": "stream",
     "text": [
      "[*********************100%***********************]  1 of 1 completed\n",
      "[*********************100%***********************]  1 of 1 completed\n",
      "[*********************100%***********************]  1 of 1 completed\n"
     ]
    },
    {
     "name": "stdout",
     "output_type": "stream",
     "text": [
      "Downloaded data for IVL.BK with 243 rows\n",
      "Downloaded data for PTTGC.BK with 243 rows\n",
      "Downloaded data for SCGP.BK with 243 rows\n"
     ]
    },
    {
     "name": "stderr",
     "output_type": "stream",
     "text": [
      "[*********************100%***********************]  1 of 1 completed\n",
      "[*********************100%***********************]  1 of 1 completed\n"
     ]
    },
    {
     "name": "stdout",
     "output_type": "stream",
     "text": [
      "Downloaded data for RSXYZ.BK with 243 rows\n",
      "Downloaded data for TPCS.BK with 243 rows\n",
      "Downloading data for propcon stocks...\n"
     ]
    },
    {
     "name": "stderr",
     "output_type": "stream",
     "text": [
      "[*********************100%***********************]  1 of 1 completed\n",
      "[*********************100%***********************]  1 of 1 completed\n"
     ]
    },
    {
     "name": "stdout",
     "output_type": "stream",
     "text": [
      "Downloaded data for AMATA.BK with 243 rows\n",
      "Downloaded data for CPN.BK with 243 rows\n"
     ]
    },
    {
     "name": "stderr",
     "output_type": "stream",
     "text": [
      "[*********************100%***********************]  1 of 1 completed\n",
      "[*********************100%***********************]  1 of 1 completed\n"
     ]
    },
    {
     "name": "stdout",
     "output_type": "stream",
     "text": [
      "Downloaded data for WHA.BK with 243 rows\n",
      "Downloaded data for SIRI.BK with 243 rows\n"
     ]
    },
    {
     "name": "stderr",
     "output_type": "stream",
     "text": [
      "[*********************100%***********************]  1 of 1 completed\n",
      "[*********************100%***********************]  1 of 1 completed\n",
      "[*********************100%***********************]  1 of 1 completed\n"
     ]
    },
    {
     "name": "stdout",
     "output_type": "stream",
     "text": [
      "Downloaded data for SCC.BK with 243 rows\n",
      "Downloading data for resource stocks...\n",
      "Downloaded data for GULF.BK with 243 rows\n",
      "Downloaded data for PTTEP.BK with 243 rows\n"
     ]
    },
    {
     "name": "stderr",
     "output_type": "stream",
     "text": [
      "[*********************100%***********************]  1 of 1 completed\n",
      "[*********************100%***********************]  1 of 1 completed\n"
     ]
    },
    {
     "name": "stdout",
     "output_type": "stream",
     "text": [
      "Downloaded data for TOP.BK with 243 rows\n",
      "Downloaded data for PTT.BK with 243 rows\n"
     ]
    },
    {
     "name": "stderr",
     "output_type": "stream",
     "text": [
      "[*********************100%***********************]  1 of 1 completed\n",
      "[*********************100%***********************]  1 of 1 completed\n"
     ]
    },
    {
     "name": "stdout",
     "output_type": "stream",
     "text": [
      "Downloaded data for BCP.BK with 243 rows\n",
      "Downloading data for service stocks...\n",
      "Downloaded data for CPALL.BK with 243 rows\n"
     ]
    },
    {
     "name": "stderr",
     "output_type": "stream",
     "text": [
      "[*********************100%***********************]  1 of 1 completed\n",
      "[*********************100%***********************]  1 of 1 completed\n"
     ]
    },
    {
     "name": "stdout",
     "output_type": "stream",
     "text": [
      "Downloaded data for AOT.BK with 243 rows\n",
      "Downloaded data for BH.BK with 243 rows\n"
     ]
    },
    {
     "name": "stderr",
     "output_type": "stream",
     "text": [
      "[*********************100%***********************]  1 of 1 completed\n",
      "[*********************100%***********************]  1 of 1 completed\n"
     ]
    },
    {
     "name": "stdout",
     "output_type": "stream",
     "text": [
      "Downloaded data for BDMS.BK with 243 rows\n",
      "Downloaded data for MINT.BK with 243 rows\n",
      "Downloading data for tech stocks...\n"
     ]
    },
    {
     "name": "stderr",
     "output_type": "stream",
     "text": [
      "[*********************100%***********************]  1 of 1 completed\n",
      "[*********************100%***********************]  1 of 1 completed\n"
     ]
    },
    {
     "name": "stdout",
     "output_type": "stream",
     "text": [
      "Downloaded data for ADVANC.BK with 243 rows\n",
      "Downloaded data for INTUCH.BK with 243 rows\n"
     ]
    },
    {
     "name": "stderr",
     "output_type": "stream",
     "text": [
      "[*********************100%***********************]  1 of 1 completed\n",
      "[*********************100%***********************]  1 of 1 completed\n"
     ]
    },
    {
     "name": "stdout",
     "output_type": "stream",
     "text": [
      "Downloaded data for DELTA.BK with 243 rows\n",
      "Downloaded data for CCET.BK with 243 rows\n"
     ]
    },
    {
     "name": "stderr",
     "output_type": "stream",
     "text": [
      "[*********************100%***********************]  1 of 1 completed\n"
     ]
    },
    {
     "name": "stdout",
     "output_type": "stream",
     "text": [
      "Downloaded data for TRUE.BK with 243 rows\n"
     ]
    },
    {
     "data": {
      "image/png": "[encoded data removed]",
      "text/plain": [
       "<Figure size 640x480 with 1 Axes>"
      ]
     },
     "metadata": {},
     "output_type": "display_data"
    },
    {
     "name": "stdout",
     "output_type": "stream",
     "text": [
      "Saved KBANK.BK data to data/fincial/KBANK.BK.csv\n",
      "Saved KTB.BK data to data/fincial/KTB.BK.csv\n",
      "Saved SCB.BK data to data/fincial/SCB.BK.csv\n",
      "Saved BBL.BK data to data/fincial/BBL.BK.csv\n",
      "Saved TTB.BK data to data/fincial/TTB.BK.csv\n",
      "Saved IVL.BK data to data/indus/IVL.BK.csv\n",
      "Saved PTTGC.BK data to data/indus/PTTGC.BK.csv\n",
      "Saved SCGP.BK data to data/indus/SCGP.BK.csv\n",
      "Saved RSXYZ.BK data to data/indus/RSXYZ.BK.csv\n",
      "Saved TPCS.BK data to data/indus/TPCS.BK.csv\n",
      "Saved AMATA.BK data to data/propcon/AMATA.BK.csv\n",
      "Saved CPN.BK data to data/propcon/CPN.BK.csv\n",
      "Saved WHA.BK data to data/propcon/WHA.BK.csv\n",
      "Saved SIRI.BK data to data/propcon/SIRI.BK.csv\n",
      "Saved SCC.BK data to data/propcon/SCC.BK.csv\n",
      "Saved GULF.BK data to data/resource/GULF.BK.csv\n",
      "Saved PTTEP.BK data to data/resource/PTTEP.BK.csv\n",
      "Saved TOP.BK data to data/resource/TOP.BK.csv\n",
      "Saved PTT.BK data to data/resource/PTT.BK.csv\n",
      "Saved BCP.BK data to data/resource/BCP.BK.csv\n",
      "Saved CPALL.BK data to data/service/CPALL.BK.csv\n",
      "Saved AOT.BK data to data/service/AOT.BK.csv\n",
      "Saved BH.BK data to data/service/BH.BK.csv\n",
      "Saved BDMS.BK data to data/service/BDMS.BK.csv\n",
      "Saved MINT.BK data to data/service/MINT.BK.csv\n",
      "Saved ADVANC.BK data to data/tech/ADVANC.BK.csv\n",
      "Saved INTUCH.BK data to data/tech/INTUCH.BK.csv\n",
      "Saved DELTA.BK data to data/tech/DELTA.BK.csv\n",
      "Saved CCET.BK data to data/tech/CCET.BK.csv\n",
      "Saved TRUE.BK data to data/tech/TRUE.BK.csv\n"
     ]
    }
   ],
   "source": [
    "%run scrape_and_pull.ipynb"
   ]
  },
  {
   "cell_type": "code",
   "execution_count": 44,
   "id": "fc3617e6-a8e6-4946-bfe0-0d883e340631",
   "metadata": {},
   "outputs": [],
   "source": [
    "import os\n",
    "import pandas as pd\n",
    "\n",
    "def process_and_save_stocks(top_5_names_industries, base_dir=\"data\"):    \n",
    "    for industry, tickers in top_5_names_industries.items():\n",
    "        for ticker in tickers:\n",
    "            file_path = os.path.join(base_dir, industry, f\"{ticker}.csv\")\n",
    "\n",
    "            if not os.path.exists(file_path):\n",
    "                print(f\"File not found: {file_path}, skipping...\")\n",
    "                continue  # Skip missing files\n",
    "\n",
    "            try:\n",
    "                df = pd.read_csv(file_path, skiprows=[1,2])\n",
    "                df.rename(columns={df.columns[0]: \"Date\"}, inplace=True)\n",
    "                df.set_index(\"Date\", inplace=True)\n",
    "                df.ffill(inplace=True)  # Fill missing data\n",
    "                \n",
    "                print(f\"Processed {ticker} in {industry}, missing values:\\n{df.isnull().sum()}\")\n",
    "\n",
    "                df.to_csv(file_path)  # Save cleaned data\n",
    "                print(f\"Saved cleaned data for {ticker} at {file_path}\\n with {len(df)} rows\")\n",
    "\n",
    "            except Exception as e:\n",
    "                print(f\"Error processing {ticker} in {industry}: {e}\")\n"
   ]
  },
  {
   "cell_type": "code",
   "execution_count": 49,
   "id": "c7ec18c6-8355-4347-b1ff-7c14e6f7022e",
   "metadata": {},
   "outputs": [
    {
     "name": "stdout",
     "output_type": "stream",
     "text": [
      "Processed KBANK.BK in fincial, missing values:\n",
      "Close     0\n",
      "High      0\n",
      "Low       0\n",
      "Open      0\n",
      "Volume    0\n",
      "dtype: int64\n",
      "Saved cleaned data for KBANK.BK at data/fincial/KBANK.BK.csv\n",
      " with 366 rows\n",
      "Processed KTB.BK in fincial, missing values:\n",
      "Close     0\n",
      "High      0\n",
      "Low       0\n",
      "Open      0\n",
      "Volume    0\n",
      "dtype: int64\n",
      "Saved cleaned data for KTB.BK at data/fincial/KTB.BK.csv\n",
      " with 366 rows\n",
      "Processed SCB.BK in fincial, missing values:\n",
      "Close     0\n",
      "High      0\n",
      "Low       0\n",
      "Open      0\n",
      "Volume    0\n",
      "dtype: int64\n",
      "Saved cleaned data for SCB.BK at data/fincial/SCB.BK.csv\n",
      " with 366 rows\n",
      "Processed BBL.BK in fincial, missing values:\n",
      "Close     0\n",
      "High      0\n",
      "Low       0\n",
      "Open      0\n",
      "Volume    0\n",
      "dtype: int64\n",
      "Saved cleaned data for BBL.BK at data/fincial/BBL.BK.csv\n",
      " with 366 rows\n",
      "Processed TTB.BK in fincial, missing values:\n",
      "Close     0\n",
      "High      0\n",
      "Low       0\n",
      "Open      0\n",
      "Volume    0\n",
      "dtype: int64\n",
      "Saved cleaned data for TTB.BK at data/fincial/TTB.BK.csv\n",
      " with 366 rows\n",
      "Processed IVL.BK in indus, missing values:\n",
      "Close     0\n",
      "High      0\n",
      "Low       0\n",
      "Open      0\n",
      "Volume    0\n",
      "dtype: int64\n",
      "Saved cleaned data for IVL.BK at data/indus/IVL.BK.csv\n",
      " with 366 rows\n",
      "Processed PTTGC.BK in indus, missing values:\n",
      "Close     0\n",
      "High      0\n",
      "Low       0\n",
      "Open      0\n",
      "Volume    0\n",
      "dtype: int64\n",
      "Saved cleaned data for PTTGC.BK at data/indus/PTTGC.BK.csv\n",
      " with 366 rows\n",
      "Processed SCGP.BK in indus, missing values:\n",
      "Close     0\n",
      "High      0\n",
      "Low       0\n",
      "Open      0\n",
      "Volume    0\n",
      "dtype: int64\n",
      "Saved cleaned data for SCGP.BK at data/indus/SCGP.BK.csv\n",
      " with 366 rows\n",
      "Processed RSXYZ.BK in indus, missing values:\n",
      "Close     0\n",
      "High      0\n",
      "Low       0\n",
      "Open      0\n",
      "Volume    0\n",
      "dtype: int64\n",
      "Saved cleaned data for RSXYZ.BK at data/indus/RSXYZ.BK.csv\n",
      " with 40 rows\n",
      "Processed TPCS.BK in indus, missing values:\n",
      "Close     0\n",
      "High      0\n",
      "Low       0\n",
      "Open      0\n",
      "Volume    0\n",
      "dtype: int64\n",
      "Saved cleaned data for TPCS.BK at data/indus/TPCS.BK.csv\n",
      " with 366 rows\n",
      "Processed AMATA.BK in propcon, missing values:\n",
      "Close     0\n",
      "High      0\n",
      "Low       0\n",
      "Open      0\n",
      "Volume    0\n",
      "dtype: int64\n",
      "Saved cleaned data for AMATA.BK at data/propcon/AMATA.BK.csv\n",
      " with 366 rows\n",
      "Processed CPN.BK in propcon, missing values:\n",
      "Close     0\n",
      "High      0\n",
      "Low       0\n",
      "Open      0\n",
      "Volume    0\n",
      "dtype: int64\n",
      "Saved cleaned data for CPN.BK at data/propcon/CPN.BK.csv\n",
      " with 366 rows\n",
      "Processed WHA.BK in propcon, missing values:\n",
      "Close     0\n",
      "High      0\n",
      "Low       0\n",
      "Open      0\n",
      "Volume    0\n",
      "dtype: int64\n",
      "Saved cleaned data for WHA.BK at data/propcon/WHA.BK.csv\n",
      " with 366 rows\n",
      "Processed SIRI.BK in propcon, missing values:\n",
      "Close     0\n",
      "High      0\n",
      "Low       0\n",
      "Open      0\n",
      "Volume    0\n",
      "dtype: int64\n",
      "Saved cleaned data for SIRI.BK at data/propcon/SIRI.BK.csv\n",
      " with 366 rows\n",
      "Processed SCC.BK in propcon, missing values:\n",
      "Close     0\n",
      "High      0\n",
      "Low       0\n",
      "Open      0\n",
      "Volume    0\n",
      "dtype: int64\n",
      "Saved cleaned data for SCC.BK at data/propcon/SCC.BK.csv\n",
      " with 366 rows\n",
      "Processed GULF.BK in resource, missing values:\n",
      "Close     0\n",
      "High      0\n",
      "Low       0\n",
      "Open      0\n",
      "Volume    0\n",
      "dtype: int64\n",
      "Saved cleaned data for GULF.BK at data/resource/GULF.BK.csv\n",
      " with 366 rows\n",
      "Processed PTTEP.BK in resource, missing values:\n",
      "Close     0\n",
      "High      0\n",
      "Low       0\n",
      "Open      0\n",
      "Volume    0\n",
      "dtype: int64\n",
      "Saved cleaned data for PTTEP.BK at data/resource/PTTEP.BK.csv\n",
      " with 366 rows\n",
      "Processed TOP.BK in resource, missing values:\n",
      "Close     0\n",
      "High      0\n",
      "Low       0\n",
      "Open      0\n",
      "Volume    0\n",
      "dtype: int64\n",
      "Saved cleaned data for TOP.BK at data/resource/TOP.BK.csv\n",
      " with 366 rows\n",
      "Processed PTT.BK in resource, missing values:\n",
      "Close     0\n",
      "High      0\n",
      "Low       0\n",
      "Open      0\n",
      "Volume    0\n",
      "dtype: int64\n",
      "Saved cleaned data for PTT.BK at data/resource/PTT.BK.csv\n",
      " with 366 rows\n",
      "Processed BCP.BK in resource, missing values:\n",
      "Close     0\n",
      "High      0\n",
      "Low       0\n",
      "Open      0\n",
      "Volume    0\n",
      "dtype: int64\n",
      "Saved cleaned data for BCP.BK at data/resource/BCP.BK.csv\n",
      " with 366 rows\n",
      "Processed CPALL.BK in service, missing values:\n",
      "Close     0\n",
      "High      0\n",
      "Low       0\n",
      "Open      0\n",
      "Volume    0\n",
      "dtype: int64\n",
      "Saved cleaned data for CPALL.BK at data/service/CPALL.BK.csv\n",
      " with 366 rows\n",
      "Processed AOT.BK in service, missing values:\n",
      "Close     0\n",
      "High      0\n",
      "Low       0\n",
      "Open      0\n",
      "Volume    0\n",
      "dtype: int64\n",
      "Saved cleaned data for AOT.BK at data/service/AOT.BK.csv\n",
      " with 366 rows\n",
      "Processed BH.BK in service, missing values:\n",
      "Close     0\n",
      "High      0\n",
      "Low       0\n",
      "Open      0\n",
      "Volume    0\n",
      "dtype: int64\n",
      "Saved cleaned data for BH.BK at data/service/BH.BK.csv\n",
      " with 366 rows\n",
      "Processed BDMS.BK in service, missing values:\n",
      "Close     0\n",
      "High      0\n",
      "Low       0\n",
      "Open      0\n",
      "Volume    0\n",
      "dtype: int64\n",
      "Saved cleaned data for BDMS.BK at data/service/BDMS.BK.csv\n",
      " with 366 rows\n",
      "Processed MINT.BK in service, missing values:\n",
      "Close     0\n",
      "High      0\n",
      "Low       0\n",
      "Open      0\n",
      "Volume    0\n",
      "dtype: int64\n",
      "Saved cleaned data for MINT.BK at data/service/MINT.BK.csv\n",
      " with 366 rows\n",
      "Processed ADVANC.BK in tech, missing values:\n",
      "Close     0\n",
      "High      0\n",
      "Low       0\n",
      "Open      0\n",
      "Volume    0\n",
      "dtype: int64\n",
      "Saved cleaned data for ADVANC.BK at data/tech/ADVANC.BK.csv\n",
      " with 366 rows\n",
      "Processed INTUCH.BK in tech, missing values:\n",
      "Close     0\n",
      "High      0\n",
      "Low       0\n",
      "Open      0\n",
      "Volume    0\n",
      "dtype: int64\n",
      "Saved cleaned data for INTUCH.BK at data/tech/INTUCH.BK.csv\n",
      " with 366 rows\n",
      "Processed DELTA.BK in tech, missing values:\n",
      "Close     0\n",
      "High      0\n",
      "Low       0\n",
      "Open      0\n",
      "Volume    0\n",
      "dtype: int64\n",
      "Saved cleaned data for DELTA.BK at data/tech/DELTA.BK.csv\n",
      " with 366 rows\n",
      "Processed CCET.BK in tech, missing values:\n",
      "Close     0\n",
      "High      0\n",
      "Low       0\n",
      "Open      0\n",
      "Volume    0\n",
      "dtype: int64\n",
      "Saved cleaned data for CCET.BK at data/tech/CCET.BK.csv\n",
      " with 366 rows\n",
      "Processed TRUE.BK in tech, missing values:\n",
      "Close     0\n",
      "High      0\n",
      "Low       0\n",
      "Open      0\n",
      "Volume    0\n",
      "dtype: int64\n",
      "Saved cleaned data for TRUE.BK at data/tech/TRUE.BK.csv\n",
      " with 366 rows\n"
     ]
    }
   ],
   "source": [
    "# Run the function to process all stocks\n",
    "top_5_names_industries = get_top_5_tickers()\n",
    "process_and_save_stocks(top_5_names_industries)"
   ]
  }
 ],
 "metadata": {
  "kernelspec": {
   "display_name": "Python 3 (ipykernel)",
   "language": "python",
   "name": "python3"
  },
  "language_info": {
   "codemirror_mode": {
    "name": "ipython",
    "version": 3
   },
   "file_extension": ".py",
   "mimetype": "text/x-python",
   "name": "python",
   "nbconvert_exporter": "python",
   "pygments_lexer": "ipython3",
   "version": "3.12.0"
  }
 },
 "nbformat": 4,
 "nbformat_minor": 5
}
