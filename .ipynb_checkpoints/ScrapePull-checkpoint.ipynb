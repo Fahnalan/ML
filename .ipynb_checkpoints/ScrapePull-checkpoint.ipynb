{
 "cells": [
  {
   "cell_type": "code",
   "execution_count": null,
   "metadata": {
    "vscode": {
     "languageId": "plaintext"
    }
   },
   "outputs": [],
   "source": [
    "!pip install pandas\n",
    "!pip install selenium\n",
    "!pip install webdriver_manager\n",
    "!pip install lxml\n",
    "!pip install yfinance"
   ]
  },
  {
   "cell_type": "code",
   "execution_count": null,
   "metadata": {
    "vscode": {
     "languageId": "plaintext"
    }
   },
   "outputs": [],
   "source": [
    "from selenium import webdriver\n",
    "from selenium.webdriver.chrome.service import Service\n",
    "from webdriver_manager.chrome import ChromeDriverManager\n",
    "from selenium.webdriver.common.by import By\n",
    "import pandas as pd\n",
    "from time import sleep"
   ]
  },
  {
   "cell_type": "code",
   "execution_count": null,
   "metadata": {
    "vscode": {
     "languageId": "plaintext"
    }
   },
   "outputs": [],
   "source": [
    "driver = webdriver.Chrome(service=Service(ChromeDriverManager().install()))"
   ]
  },
  {
   "cell_type": "code",
   "execution_count": null,
   "metadata": {
    "vscode": {
     "languageId": "plaintext"
    }
   },
   "outputs": [],
   "source": [
    "argo = 'https://www.set.or.th/th/market/index/set/agro'\n",
    "consump = 'https://www.set.or.th/th/market/index/set/consump'\n",
    "fincial = 'https://www.set.or.th/th/market/index/set/fincial'\n",
    "indus = 'https://www.set.or.th/th/market/index/set/indus'\n",
    "propcon = 'https://www.set.or.th/th/market/index/set/propcon'\n",
    "resource = 'https://www.set.or.th/th/market/index/set/resourc'\n",
    "service = 'https://www.set.or.th/th/market/index/set/service'\n",
    "tech = 'https://www.set.or.th/th/market/index/set/tech'"
   ]
  },
  {
   "cell_type": "code",
   "execution_count": null,
   "metadata": {
    "vscode": {
     "languageId": "plaintext"
    }
   },
   "outputs": [],
   "source": [
    "# Scrap the most exchange value from SET\n",
    "def scrape_industry_data(driver):\n",
    "    \n",
    "    industry_urls = {\n",
    "        \"agro\": \"https://www.set.or.th/th/market/index/set/agro\",\n",
    "        \"consump\": \"https://www.set.or.th/th/market/index/set/consump\",\n",
    "        \"fincial\": \"https://www.set.or.th/th/market/index/set/fincial\",\n",
    "        \"indus\": \"https://www.set.or.th/th/market/index/set/indus\",\n",
    "        \"propcon\": \"https://www.set.or.th/th/market/index/set/propcon\",\n",
    "        \"resource\": \"https://www.set.or.th/th/market/index/set/resourc\",\n",
    "        \"service\": \"https://www.set.or.th/th/market/index/set/service\",\n",
    "        \"tech\": \"https://www.set.or.th/th/market/index/set/tech\"\n",
    "    }\n",
    "\n",
    "    industry_data = {}\n",
    "\n",
    "    for industry, url in industry_urls.items():\n",
    "        print(f\"Scraping {industry} data from {url}...\")\n",
    "        driver.get(url)\n",
    "        sleep(5)  \n",
    "        driver.execute_script(\"window.scrollTo(0, 1500)\")  \n",
    "        sleep(5)  \n",
    "    \n",
    "        retry_attempts = 3  \n",
    "        data_cleaned = None  \n",
    "\n",
    "        for attempt in range(retry_attempts):\n",
    "            try:\n",
    "                data_list = pd.read_html(driver.page_source)\n",
    "                if len(data_list) > 1:\n",
    "                    data_cleaned = data_list[1].dropna(how=\"all\")  # Clean the data\n",
    "\n",
    "            # If data_cleaned is not empty, break the retry loop\n",
    "                if data_cleaned is not None and not data_cleaned.empty:\n",
    "                    print(data_cleaned)\n",
    "                    industry_data[industry] = data_cleaned  # Store in dictionary\n",
    "                    print(f\"Successfully scraped {industry} data.\")\n",
    "                    break\n",
    "                else:\n",
    "                    print(f\"No data found for {industry}. Retrying... (Attempt {attempt + 1})\")\n",
    "                    sleep(5)  # Wait before retrying\n",
    "                    driver.refresh()  # Refresh the page\n",
    "\n",
    "            except Exception as e:\n",
    "                print(f\"Error scraping {industry} on attempt {attempt + 1}: {e}\")\n",
    "        else:\n",
    "            print(f\"Failed to scrape data for {industry} after {retry_attempts} attempts.\")\n",
    "\n",
    "    return industry_data\n",
    "\n",
    "# Get the top 5\n",
    "def get_top_5_by_value(dataframe):\n",
    "    if dataframe.empty or \"มูลค่า ('000 บาท)\" not in dataframe.columns:\n",
    "        return pd.DataFrame(columns=[\"หลักทรัพย์\", \"มูลค่า ('000 บาท)\"])  # Return empty DataFrame if missing data\n",
    "\n",
    "    dataframe[\"มูลค่า ('000 บาท)\"] = pd.to_numeric(dataframe[\"มูลค่า ('000 บาท)\"], errors=\"coerce\")\n",
    "    \n",
    "    dataframe = dataframe.dropna(subset=[\"มูลค่า ('000 บาท)\"])\n",
    "\n",
    "    top_5 = dataframe.sort_values(by=\"มูลค่า ('000 บาท)\", ascending=False).head(5)\n",
    "\n",
    "    return top_5[[\"หลักทรัพย์\", \"มูลค่า ('000 บาท)\"]]\n",
    "\n",
    "# Extract for furthur input\n",
    "def extract_top_5_data_with_tickers(source_data):\n",
    "    top_5_industries = {industry: get_top_5_by_value(df) for industry, df in source_data.items()}\n",
    "    \n",
    "    # Extract only the top 5 names and add \".BK\"\n",
    "    top_5_names_industries = {\n",
    "        industry: [f\"{ticker}.BK\" for ticker in df[\"หลักทรัพย์\"].tolist()]\n",
    "        for industry, df in top_5_industries.items()\n",
    "    }\n",
    "\n",
    "    return top_5_industries, top_5_names_industries"
   ]
  },
  {
   "cell_type": "code",
   "execution_count": null,
   "metadata": {
    "vscode": {
     "languageId": "plaintext"
    }
   },
   "outputs": [],
   "source": [
    "industry_data = scrape_industry_data(driver)"
   ]
  },
  {
   "cell_type": "code",
   "execution_count": null,
   "metadata": {
    "vscode": {
     "languageId": "plaintext"
    }
   },
   "outputs": [],
   "source": [
    "top_5_industries = {\n",
    "    industry: get_top_5_by_value(df) for industry, df in industry_data.items()\n",
    "}\n",
    "\n",
    "# Print results\n",
    "print(\"\\n========= TOP 5 with Values =========\")\n",
    "for industry, top_5 in top_5_industries.items():\n",
    "    print(f\"\\nTop 5 for {industry}:\")\n",
    "    print(top_5)\n",
    "\n",
    "top_5_industries, top_5_names_industries = extract_top_5_data_with_tickers(industry_data)\n",
    "\n",
    "# Print the top 5 names with '.BK' appended\n",
    "print(\"\\n========= TOP 5 with .BK =========\")\n",
    "for industry, names in top_5_names_industries.items():\n",
    "    print(f\"\\nTop 5 tickers for {industry}:\")\n",
    "    print(names)"
   ]
  }
 ],
 "metadata": {
  "language_info": {
   "name": "python"
  }
 },
 "nbformat": 4,
 "nbformat_minor": 2
}
