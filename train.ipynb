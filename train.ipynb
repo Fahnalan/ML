{
 "cells": [
  {
   "cell_type": "code",
   "execution_count": 29,
   "id": "c38b4584-65a8-4f67-bcb5-3ecca937485d",
   "metadata": {},
   "outputs": [
    {
     "name": "stdout",
     "output_type": "stream",
     "text": [
      "        Price  Close   High    Low   Open    Volume\n",
      "2  2024-12-11  154.5  156.5  154.0  156.0   9896700\n",
      "3  2024-12-12  156.5  157.5  155.0  155.0  14244300\n",
      "4  2024-12-13  158.0  158.5  156.0  157.0  12712800\n",
      "5  2024-12-16  157.0  157.5  156.5  157.0   6012300\n",
      "6  2024-12-17  153.5  157.5  153.5  157.0   7103900\n"
     ]
    }
   ],
   "source": [
    "# Step 1: Load the data from CSV file\n",
    "\n",
    "import pandas as pd\n",
    "import os\n",
    "\n",
    "file_path = os.path.join(\"data\", \"Fincial\", \"KBANK.BK.csv\")\n",
    "\n",
    "df = pd.read_csv(file_path)\n",
    "df = df.iloc[2:]\n",
    "print(df.head())"
   ]
  },
  {
   "cell_type": "code",
   "execution_count": 30,
   "id": "9e18e9a6-e0a3-42c4-8fbf-7dbba0ada91b",
   "metadata": {},
   "outputs": [
    {
     "name": "stdout",
     "output_type": "stream",
     "text": [
      "             Price  Close   High    Low   Open   Volume\n",
      "count           41     41     41     41     41       41\n",
      "unique          41     20     19     17     18       41\n",
      "top     2024-12-11  154.5  161.5  160.0  155.0  9896700\n",
      "freq             1      5      6      6      7        1\n"
     ]
    }
   ],
   "source": [
    "print(df.describe())"
   ]
  },
  {
   "cell_type": "code",
   "execution_count": 31,
   "id": "44783849-727c-4a93-9999-3ed6d5cf8dea",
   "metadata": {},
   "outputs": [
    {
     "name": "stdout",
     "output_type": "stream",
     "text": [
      "Processed Data Sample:\n",
      "       Close\n",
      "2  0.181818\n",
      "3  0.363636\n",
      "4  0.500000\n",
      "5  0.409091\n",
      "6  0.090909\n"
     ]
    }
   ],
   "source": [
    "# Step 2: Preprocessing the data\n",
    "import numpy as np\n",
    "from sklearn.preprocessing import MinMaxScaler\n",
    "\n",
    "df = df[['Close']]  \n",
    "\n",
    "df.dropna(inplace=True)\n",
    "df['Close'] = df['Close'].astype(float)\n",
    "\n",
    "scaler = MinMaxScaler(feature_range=(0, 1))\n",
    "scaled_data = scaler.fit_transform(df)\n",
    "\n",
    "processed_data = pd.DataFrame(scaled_data, columns=['Close'], index=df.index)\n",
    "\n",
    "print(\"Processed Data Sample:\\n\", processed_data.head())"
   ]
  },
  {
   "cell_type": "code",
   "execution_count": 36,
   "id": "bf5dce9b-0b1f-43c3-90ab-6c2863d258c7",
   "metadata": {},
   "outputs": [
    {
     "ename": "ValueError",
     "evalue": "Not enough data points for LSTM training. At least 60 required.",
     "output_type": "error",
     "traceback": [
      "\u001b[0;31m---------------------------------------------------------------------------\u001b[0m",
      "\u001b[0;31mValueError\u001b[0m                                Traceback (most recent call last)",
      "Cell \u001b[0;32mIn[36], line 6\u001b[0m\n\u001b[1;32m      4\u001b[0m \u001b[38;5;66;03m# Ensure enough data points exist before proceeding\u001b[39;00m\n\u001b[1;32m      5\u001b[0m \u001b[38;5;28;01mif\u001b[39;00m \u001b[38;5;28mlen\u001b[39m(processed_data) \u001b[38;5;241m<\u001b[39m \u001b[38;5;241m60\u001b[39m:\n\u001b[0;32m----> 6\u001b[0m     \u001b[38;5;28;01mraise\u001b[39;00m \u001b[38;5;167;01mValueError\u001b[39;00m(\u001b[38;5;124m\"\u001b[39m\u001b[38;5;124mNot enough data points for LSTM training. At least 60 required.\u001b[39m\u001b[38;5;124m\"\u001b[39m)\n\u001b[1;32m      8\u001b[0m \u001b[38;5;66;03m# Convert to NumPy array\u001b[39;00m\n\u001b[1;32m      9\u001b[0m scaled_data \u001b[38;5;241m=\u001b[39m processed_data\u001b[38;5;241m.\u001b[39mvalues  \n",
      "\u001b[0;31mValueError\u001b[0m: Not enough data points for LSTM training. At least 60 required."
     ]
    }
   ],
   "source": [
    "from sklearn.model_selection import train_test_split\n",
    "import numpy as np\n",
    "\n",
    "# Ensure enough data points exist before proceeding\n",
    "if len(processed_data) < 60:\n",
    "    raise ValueError(\"Not enough data points for LSTM training. At least 60 required.\")\n",
    "\n",
    "# Convert to NumPy array\n",
    "scaled_data = processed_data.values  \n",
    "\n",
    "# Split data into training (80%) and testing (20%)\n",
    "train_size = int(len(scaled_data) * 0.8)\n",
    "train_data, test_data = scaled_data[:train_size], scaled_data[train_size:]\n",
    "\n",
    "# Initialize lists\n",
    "x_train, y_train, x_test, y_test = [], [], [], []\n",
    "\n",
    "# Generate sequences for training\n",
    "for i in range(60, len(train_data)):\n",
    "    x_train.append(train_data[i-60:i, 0])  # 60 previous days\n",
    "    y_train.append(train_data[i, 0])  # Predict the next day's close price\n",
    "\n",
    "# Convert to NumPy arrays\n",
    "x_train, y_train = np.array(x_train), np.array(y_train)\n",
    "\n",
    "# Generate sequences for testing\n",
    "for i in range(60, len(test_data)):\n",
    "    x_test.append(test_data[i-60:i, 0])\n",
    "    y_test.append(test_data[i, 0])\n",
    "\n",
    "x_test, y_test = np.array(x_test), np.array(y_test)\n",
    "\n",
    "# Ensure shapes are correct before reshaping\n",
    "print(f\"x_train shape before reshape: {x_train.shape}\")\n",
    "print(f\"x_test shape before reshape: {x_test.shape}\")\n",
    "\n",
    "# Reshape for LSTM input (samples, time steps, features)\n",
    "if x_train.shape[0] > 0 and x_train.shape[1] > 0:\n",
    "    x_train = x_train.reshape((x_train.shape[0], x_train.shape[1], 1))\n",
    "else:\n",
    "    raise ValueError(\"x_train is empty after preprocessing. Check dataset size.\")\n",
    "\n",
    "if x_test.shape[0] > 0 and x_test.shape[1] > 0:\n",
    "    x_test = x_test.reshape((x_test.shape[0], x_test.shape[1], 1))\n",
    "else:\n",
    "    raise ValueError(\"x_test is empty after preprocessing. Check dataset size.\")\n",
    "\n",
    "print(f\"x_train shape after reshape: {x_train.shape}\")\n",
    "print(f\"x_test shape after reshape: {x_test.shape}\")\n"
   ]
  }
 ],
 "metadata": {
  "kernelspec": {
   "display_name": "Python 3 (ipykernel)",
   "language": "python",
   "name": "python3"
  },
  "language_info": {
   "codemirror_mode": {
    "name": "ipython",
    "version": 3
   },
   "file_extension": ".py",
   "mimetype": "text/x-python",
   "name": "python",
   "nbconvert_exporter": "python",
   "pygments_lexer": "ipython3",
   "version": "3.12.0"
  }
 },
 "nbformat": 4,
 "nbformat_minor": 5
}
